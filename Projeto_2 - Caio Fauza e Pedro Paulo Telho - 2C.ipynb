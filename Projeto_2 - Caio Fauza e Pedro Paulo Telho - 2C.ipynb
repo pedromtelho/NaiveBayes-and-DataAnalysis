{
 "cells": [
  {
   "cell_type": "markdown",
   "metadata": {},
   "source": [
    "## Caio Horschutz Fauza e Pedro Paulo Mendonça Telho - 2C"
   ]
  },
  {
   "cell_type": "markdown",
   "metadata": {},
   "source": [
    "# Projeto 2 - Classificador Automático de Sentimento\n",
    "\n",
    "Você foi contratado por uma empresa parar analisar como os clientes estão reagindo a um determinado produto no Twitter. A empresa deseja que você crie um programa que irá analisar as mensagens disponíveis e classificará como \"relevante\" ou \"irrelevante\". Com isso ela deseja que mensagens negativas, que denigrem o nome do produto, ou que mereçam destaque, disparem um foco de atenção da área de marketing.<br /><br />\n",
    "Como aluno de Ciência dos Dados, você lembrou do Teorema de Bayes, mais especificamente do Classificador Naive-Bayes, que é largamente utilizado em filtros anti-spam de e-mails. O classificador permite calcular qual a probabilidade de uma mensagem ser relevante dadas as palavras em seu conteúdo.<br /><br />\n",
    "Para realizar o MVP (*minimum viable product*) do projeto, você precisa implementar uma versão do classificador que \"aprende\" o que é relevante com uma base de treinamento e compara a performance dos resultados com uma base de testes.<br /><br />\n",
    "Após validado, o seu protótipo poderá também capturar e classificar automaticamente as mensagens da plataforma.\n",
    "\n",
    "## Informações do Projeto\n",
    "\n",
    "Prazo: 19/Set até às 23:59.<br />\n",
    "Grupo: 2 ou 3 pessoas - grupos com 3 pessoas terá uma rubrica diferenciada.<br /><br />\n",
    "Entregáveis via GitHub: \n",
    "* Arquivo notebook com o código do classificador, seguindo as orientações abaixo.\n",
    "* Arquivo Excel com as bases de treinamento e teste totalmente classificado.\n",
    "\n",
    "**NÃO gravar a key do professor no arquivo**\n",
    "\n",
    "\n",
    "### Entrega Intermediária: Check 1 - APS 2\n",
    "\n",
    "Até o dia 10/Set às 23:59, xlsx deve estar no Github com as seguintes evidências: \n",
    "\n",
    "  * Produto escolhido.\n",
    "  * Arquivo Excel contendo a base de treinamento e a base de testes já classificadas.\n",
    "\n",
    "Sugestão de leitura:<br />\n",
    "https://monkeylearn.com/blog/practical-explanation-naive-bayes-classifier/"
   ]
  },
  {
   "cell_type": "markdown",
   "metadata": {},
   "source": [
    "___\n",
    "\n",
    "## Parte I - Adquirindo a Base de Dados\n",
    "\n",
    "Acessar o notebook **Projeto-2-Planilha** para realizar a coleta dos dados. O grupo deve classificar os dados coletados manualmente."
   ]
  },
  {
   "cell_type": "markdown",
   "metadata": {},
   "source": [
    "#### Buscamos classificar como relevantes apenas os tweets que traziam informações válidas sobre o produto, negativamente ou positivamente, além de dados que consideramos importantes, que alguns clientes ou potenciais clientes apresentaram."
   ]
  },
  {
   "cell_type": "markdown",
   "metadata": {},
   "source": [
    "___\n",
    "## Parte II - Montando o Classificador Naive-Bayes\n",
    "\n",
    "Com a base de treinamento montada, comece a desenvolver o classificador. Não se esqueça de implementar o Laplace Smoothing (https://en.wikipedia.org/wiki/Laplace_smoothing).\n",
    "\n",
    "Opcionalmente: \n",
    "* Limpar as mensagens removendo os caracteres: enter, :, \", ', (, ), etc. Não remover emojis.<br />\n",
    "* Corrigir separação de espaços entre palavras e/ou emojis.\n",
    "* Propor outras limpezas/transformações que não afetem a qualidade da informação.\n",
    "\n",
    "Escreva o seu código abaixo:"
   ]
  },
  {
   "cell_type": "code",
   "execution_count": 4,
   "metadata": {
    "scrolled": true
   },
   "outputs": [],
   "source": [
    "import pandas as pd\n",
    "\n",
    "tabela = pd.read_excel(\"hb20_tabela.xlsx\", \"Treinamento\")\n",
    "\n",
    "\n",
    "relevantes1 = list()\n",
    "notrelevantes1 = list()\n",
    "relevantes = list()\n",
    "notrelevantes = list()\n",
    "\n",
    "#Separação das palavras\n",
    "for i in range(0, len(tabela[\"Treinamento\"])):\n",
    "    if tabela.loc[i, \"Relevantes(1)/Irrelevantes(0)\"] == 1: \n",
    "        relevantes1.append(\" \".join(tabela.loc[i, \"Treinamento\"].split(\" \")))\n",
    "        \n",
    "    if tabela.loc[i, \"Relevantes(1)/Irrelevantes(0)\"] == 0:\n",
    "        notrelevantes1.append(\" \".join(tabela.loc[i, \"Treinamento\"].split(\" \")))         \n",
    "for i in relevantes1:\n",
    "    relevantes.extend(i.split())    \n",
    "for i in notrelevantes1:\n",
    "    notrelevantes.extend(i.split())\n",
    "\n",
    "#Limpeza das listas\n",
    "for i in relevantes:\n",
    "    if \"@\" in i:\n",
    "        relevantes.remove(i)\n",
    "    if \"http\" in i:\n",
    "        relevantes.remove(i)\n",
    "    if \",\" in i:\n",
    "        relevantes.remove(i)\n",
    "    if \"-\" in i:\n",
    "        relevantes.remove(i)\n",
    "        \n",
    "for i in notrelevantes:\n",
    "    if \"@\" in i:\n",
    "        notrelevantes.remove(i)\n",
    "    if \"http\" in i:\n",
    "        notrelevantes.remove(i)\n",
    "    if \",\" in i:\n",
    "        notrelevantes.remove(i)\n",
    "    if \"-\" in i:\n",
    "        notrelevantes.remove(i)\n",
    "    \n",
    "    \n",
    "        \n",
    "\n",
    "\n",
    "listar = pd.DataFrame(relevantes)\n",
    "listanr = pd.DataFrame(notrelevantes)\n",
    "dicrelevancia = listar[0].value_counts().to_dict()\n",
    "dicnrelevancia = listanr[0].value_counts().to_dict()\n",
    "\n",
    "emrelevantes = set(relevantes)\n",
    "naorelevantes = set(notrelevantes)\n",
    "total = naorelevantes - emrelevantes\n",
    "\n",
    "\n",
    "def classificador(tweet):\n",
    "    lista = tweet.split(\" \")\n",
    "    prelevante = 1\n",
    "    pirrelevante = 1\n",
    "    for i in lista:\n",
    "        if i in dicrelevancia: \n",
    "            prelevante *= (dicrelevancia[i] + 1)/(len(dicrelevancia) + len(total))\n",
    "        else:\n",
    "            prelevante *= 1/(len(dicrelevancia) + len(total))\n",
    "        if i in dicnrelevancia:\n",
    "            pirrelevante *= (dicnrelevancia[i]+1)/(len(dicnrelevancia) + len(total))\n",
    "        else:\n",
    "            pirrelevante *= 1/(len(dicnrelevancia) + len(total))\n",
    "  \n",
    "    prelevante*=(len(relevantes1)/300)\n",
    "    pirrelevante*=(len(notrelevantes1)/300)\n",
    "\n",
    "\n",
    "        \n",
    "    if prelevante > pirrelevante:\n",
    "        return 1\n",
    "    \n",
    "    if pirrelevante > prelevante:\n",
    "        return 0\n",
    "\n",
    "    \n",
    "    \n",
    "#------------------ Debug ----------\"\n",
    "# if prelevante > pirrelevante:\n",
    "#   return (\"Relevante \" + str(prelevante) + \"       \" + str(pirrelevante))\n",
    "    \n",
    " #   if pirrelevante > prelevante:\n",
    "  #      return (\"Irrelevante \" + str(pirrelevante) + \"       \" + str(prelevante))    \n",
    "    \n",
    "    \n",
    "    \n",
    " \n",
    "\n",
    "\n",
    "\n"
   ]
  },
  {
   "cell_type": "markdown",
   "metadata": {},
   "source": [
    "___\n",
    "## Verificando a performance\n",
    "\n",
    "Agora você deve testar o seu Classificador com a base de Testes.<br /><br /> \n",
    "\n",
    "Você deve extrair as seguintes medidas:\n",
    "* Porcentagem de positivos falsos (marcados como relevante mas não são relevantes)\n",
    "* Porcentagem de positivos verdadeiros (marcado como relevante e são relevantes)\n",
    "* Porcentagem de negativos verdadeiros (marcado como não relevante e não são relevantes)\n",
    "* Porcentagem de negativos falsos (marcado como não relevante e são relevantes)\n",
    "\n",
    "Obrigatório para grupos de 3 alunos:\n",
    "* Criar categorias intermediárias de relevância baseado na diferença de probabilidades. Exemplo: muito relevante, relevante, neutro, irrelevante e muito irrelevante."
   ]
  },
  {
   "cell_type": "code",
   "execution_count": 5,
   "metadata": {
    "scrolled": true
   },
   "outputs": [
    {
     "name": "stdout",
     "output_type": "stream",
     "text": [
      "Performance do classificador:\n",
      "Positivos falsos: 4.0%\n",
      "Positivos verdadeiros: 15.5%\n",
      "Negativos verdadeiros: 63.5%\n",
      "Negativos falsos: 17.0%\n"
     ]
    }
   ],
   "source": [
    "testesclassificado = list()\n",
    "tabelatestes = pd.read_excel(\"hb20_tabela.xlsx\", 1)\n",
    "\n",
    "for i in range(0, len(tabelatestes[\"Teste\"])):\n",
    "    testesclassificado.append(classificador(tabelatestes.loc[i, \"Teste\"]))\n",
    "\n",
    "tabelatestes[\"Função aplicada\"] = testesclassificado\n",
    "\n",
    "positivosfalsos = 0\n",
    "positivosverdadeiros = 0\n",
    "negativosverdadeiros = 0\n",
    "negativosfalsos = 0\n",
    "\n",
    "for i in range(0, len(tabelatestes[\"Teste\"])):\n",
    "    if (tabelatestes.loc[i,\"Função aplicada\"]) == 1 and (tabelatestes.loc[i, \"Relevantes(1)/Irrelevantes(0)\"]) == 0:\n",
    "        positivosfalsos += 1\n",
    "    if (tabelatestes.loc[i,\"Função aplicada\"]) == 1 and (tabelatestes.loc[i, \"Relevantes(1)/Irrelevantes(0)\"]) == 1:\n",
    "        positivosverdadeiros += 1\n",
    "    if (tabelatestes.loc[i,\"Função aplicada\"]) == 0 and (tabelatestes.loc[i, \"Relevantes(1)/Irrelevantes(0)\"]) == 0:\n",
    "        negativosverdadeiros += 1\n",
    "    if (tabelatestes.loc[i,\"Função aplicada\"]) == 0 and (tabelatestes.loc[i, \"Relevantes(1)/Irrelevantes(0)\"]) == 1:\n",
    "        negativosfalsos += 1\n",
    "    \n",
    "pfalsos = positivosfalsos/len(tabelatestes[\"Função aplicada\"])     \n",
    "pverdadeiros = positivosverdadeiros/len(tabelatestes[\"Função aplicada\"])\n",
    "nverdadeiros = negativosverdadeiros/len(tabelatestes[\"Função aplicada\"])\n",
    "nfalsos = negativosfalsos/len(tabelatestes[\"Função aplicada\"])\n",
    "\n",
    "print(\"Performance do classificador:\")\n",
    "print(\"Positivos falsos: \" + str(pfalsos*100) + \"%\")\n",
    "print(\"Positivos verdadeiros: \" + str(pverdadeiros*100) + \"%\")\n",
    "print(\"Negativos verdadeiros: \" + str(nverdadeiros*100) + \"%\")\n",
    "print(\"Negativos falsos: \" + str(nfalsos*100)+ \"%\")\n",
    "        "
   ]
  },
  {
   "cell_type": "markdown",
   "metadata": {},
   "source": [
    "# ___\n",
    "## Concluindo\n",
    "\n",
    "Escreva aqui a sua conclusão.<br /> \n",
    "Faça um comparativo qualitativo sobre as medidas obtidas.<br />\n",
    "Explique como são tratadas as mensagens com dupla negação e sarcasmo.<br />\n",
    "Proponha um plano de expansão. Por que eles devem continuar financiando o seu projeto?<br />\n",
    "\n",
    "Opcionalmente: \n",
    "* Discorrer por que não posso alimentar minha base de Treinamento automaticamente usando o próprio classificador, aplicado a novos tweets.\n",
    "* Propor diferentes cenários de uso para o classificador Naive-Bayes. Cenários sem intersecção com este projeto.\n",
    "* Sugerir e explicar melhorias reais no classificador com indicações concretas de como implementar (não é preciso codificar, mas indicar como fazer e material de pesquisa sobre o assunto).\n"
   ]
  },
  {
   "cell_type": "code",
   "execution_count": 6,
   "metadata": {},
   "outputs": [
    {
     "data": {
      "image/png": "[encoded data removed]",
      "text/plain": [
       "<matplotlib.figure.Figure at 0x1f1c9300390>"
      ]
     },
     "metadata": {},
     "output_type": "display_data"
    }
   ],
   "source": [
    "pie = pd.DataFrame({\"\": [pfalsos, pverdadeiros, nverdadeiros, nfalsos]}, index = [\"Positivos falsos\", \"Positivos verdadeiros\", \"Negativos verdadeiros\", \"Negativos falsos\"])\n",
    "plot = pie.plot.pie(y='', legend= False)"
   ]
  },
  {
   "cell_type": "markdown",
   "metadata": {},
   "source": [
    " Após aplicar o classificador na base de testes, a performance descrita no gráfico acima foi obtida. Relativamente, a maior porcentagem de classificação foi de \"verdadeiros\". Os eventuais erros obtidos decorrem da possível mudança de sentimento no momento do treinamento da base e da pequena quantidade de tweets analisados. Os tweets ao serem separados para a comparação, contendo ou não sarcasmo e dupla negação, são tratados da mesma forma que os outros, ou seja, palavra por palavra é analisada em relação a relevância e não relevância e são comparadas.\n",
    " \n",
    " Um possível plano de expansão seria a aplicação do projeto em outros produtos da empresa, visando posteriormente classificá-los, analisá-los e compará-los de maneira mais efetiva e ampla, gerando ações positivas da equipe de marketing e até mesmo na forma como os projetos podem ser desenvolvidos dentro da companhia.\n",
    " \n",
    " Vale mencionar que não seria possível alimentar a base de treinamento automaticamente, utilizando o próprio classificador, devido ao fato de que esses novos tweets não estariam sendo classificados com o sentimento utilizado anteriormente para a base e sim classificados de acordo com o algorítimo pré-estabelecido, ou seja, na prática, funcionariam apenas como mais base de testes.\n",
    " \n",
    " O classificador poderia ser aplicado a contextos diversificados com bastante eficiência, como por exemplo no período eleitoral, para a monitoração do que a população pensa sobre algum candidato a algum cargo público, gerando estratégias de \"marketing eleitoral\" direcionadas. Outro exemplo seria a aplicação do classificador para monitorar projetos que o governo desenvolveu e implementou, buscando o feedback de maneira eficiente.\n",
    " \n",
    " Para aprimorar o projeto, uma ideia válida seria expandir a base de dados, aumentando significamente o número de tweets analisados e consequentemente a base de treinamento. Além disso, uma criação de mais categorias para classificação seria adequado, voltados ao direcionamento da área de marketing em tweets positivos ou negativos para o nome da empresa ou do produto. Com essas medidas, o classificador se tornaria mais eficiente e seria mais funcional."
   ]
  }
 ],
 "metadata": {
  "kernelspec": {
   "display_name": "Python 3",
   "language": "python",
   "name": "python3"
  },
  "language_info": {
   "codemirror_mode": {
    "name": "ipython",
    "version": 3
   },
   "file_extension": ".py",
   "mimetype": "text/x-python",
   "name": "python",
   "nbconvert_exporter": "python",
   "pygments_lexer": "ipython3",
   "version": "3.6.4"
  }
 },
 "nbformat": 4,
 "nbformat_minor": 2
}
